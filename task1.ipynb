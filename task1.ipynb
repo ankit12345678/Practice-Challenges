{
 "cells": [
  {
   "cell_type": "markdown",
   "id": "f60f1471",
   "metadata": {},
   "source": [
    "# 1.Create a folde task an inside it create a module(.py) and inside it write a logic to print all the even numbers using a function.\n",
    "# 2In a same folder create .pynb files and from this call mod1.py.\n",
    "# 3.In .ipynb file -- while calling mod.py take an input from user try to handle all the edge cases.\n",
    "# 4.Whatever error we ar receiving we need to log that error."
   ]
  },
  {
   "cell_type": "code",
   "execution_count": 3,
   "id": "ae27ca68",
   "metadata": {},
   "outputs": [
    {
     "name": "stdout",
     "output_type": "stream",
     "text": [
      "10\n",
      "[0, 2, 4, 6, 8]\n"
     ]
    }
   ],
   "source": [
    "import mod1\n",
    "import logging as lg\n",
    "lg.basicConfig(filename = \"even.log\", level = lg.INFO)\n",
    "try:\n",
    "    a=int(input())\n",
    "except Exception as e:\n",
    "    print(\"You can check for log info if your code fails\")\n",
    "    lg.error(\"error has occured\")\n",
    "    lg.exception(str(e))\n",
    "\n",
    "try:\n",
    "    print(mod1.find_even(a))\n",
    "except Exception as e:\n",
    "    print(\"You can check for log info if your code fails\")\n",
    "    lg.error(\"error has occured\")\n",
    "    lg.exception(str(e))"
   ]
  },
  {
   "cell_type": "code",
   "execution_count": 1,
   "id": "5618ce71",
   "metadata": {},
   "outputs": [
    {
     "name": "stdout",
     "output_type": "stream",
     "text": [
      "p\n",
      "You can check for log info if your code fails\n",
      "You can check for log info if your code fails\n"
     ]
    }
   ],
   "source": [
    "import mod1\n",
    "import logging as lg\n",
    "lg.basicConfig(filename = \"even.log\", level = lg.INFO)\n",
    "try:\n",
    "    a=int(input())\n",
    "except Exception as e:\n",
    "    print(\"You can check for log info if your code fails\")\n",
    "    lg.error(\"error has occured\")\n",
    "    lg.exception(str(e))\n",
    "\n",
    "try:\n",
    "    print(mod1.find_even(a))\n",
    "except Exception as e:\n",
    "    print(\"You can check for log info if your code fails\")\n",
    "    lg.error(\"error has occured\")\n",
    "    lg.exception(str(e))"
   ]
  },
  {
   "cell_type": "code",
   "execution_count": null,
   "id": "98432e04",
   "metadata": {},
   "outputs": [],
   "source": []
  }
 ],
 "metadata": {
  "kernelspec": {
   "display_name": "Python 3",
   "language": "python",
   "name": "python3"
  },
  "language_info": {
   "codemirror_mode": {
    "name": "ipython",
    "version": 3
   },
   "file_extension": ".py",
   "mimetype": "text/x-python",
   "name": "python",
   "nbconvert_exporter": "python",
   "pygments_lexer": "ipython3",
   "version": "3.8.8"
  }
 },
 "nbformat": 4,
 "nbformat_minor": 5
}
