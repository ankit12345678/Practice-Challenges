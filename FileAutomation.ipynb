{
 "cells": [
  {
   "cell_type": "markdown",
   "id": "e78cdab1",
   "metadata": {},
   "source": [
    "# To copy Files from downloads into a master files under their corresponding respective name directories"
   ]
  },
  {
   "cell_type": "code",
   "execution_count": 69,
   "id": "2b197a96",
   "metadata": {},
   "outputs": [],
   "source": [
    "import os\n",
    "import shutil\n",
    "import docx\n",
    "src=\"C:\\\\Users\\\\MY DELL\\\\Downloads\"\n",
    "des=\"G:\\\\python module\\\\Workingwithfiles\"\n",
    "#Correct - To give file names replacing unneccessary characters\n",
    "def rename1(name):\n",
    "    name=name.replace('_','')\n",
    "    if '(' in name:\n",
    "        name=name.replace('(','').replace(')','')    .replace(' ','_')\n",
    "        \n",
    "        return name\n",
    "    else:\n",
    "        return name\n",
    "#To give directory name depending upon the Assignment name\n",
    "def dirname(dname):\n",
    "    if '_' in dname:\n",
    "        dname=dname.replace('_','')\n",
    "        for j in dname:\n",
    "            if j.isnumeric()==True:\n",
    "                f1=dname.find(j)\n",
    "                break\n",
    "        return dname[0:f1]\n",
    "    else:\n",
    "        for k in dname:\n",
    "            if k.isnumeric()==True:\n",
    "                f2=dname.find(k)\n",
    "                f3=f2\n",
    "                break\n",
    "        \n",
    "        return dname[0:f2]\n",
    "os.mkdir('Automation')\n",
    "des1= \"G:\\\\python module\\\\Workingwithfiles\\\\Automation\"\n",
    "#Change the name of duplicates files to understand better\n",
    "for j in os.listdir(src):\n",
    "    if os.getcwd!=src:\n",
    "        os.chdir(src)\n",
    "    j1=rename1(j)\n",
    "    os.rename(j,j1)\n",
    "os.chdir(des1)\n",
    "#Moving from dowloads in C: to in current wd under their respective name.\n",
    "for i in os.listdir(src):\n",
    "    folder = dirname(i)\n",
    "    if not os.path.isdir(folder):\n",
    "        os.mkdir(folder)\n",
    "    shutil.move(src+'\\\\'+i,des1+'\\\\'+folder)  \n",
    "\n",
    "\n",
    "#Merging the assignment and saving it in the corresponding directory name\n",
    "\n",
    "newdoc = docx.Document()\n",
    "for i in os.listdir():\n",
    "    if i!='.ipynb_checkpoints':\n",
    "        os.chdir(i)\n",
    "        for j in os.listdir():\n",
    "            newdoc.add_heading(j, 0)\n",
    "            doc = docx.Document(j)\n",
    "            for para in doc.paragraphs:\n",
    "                newdoc.add_paragraph(para.text)\n",
    "            newdoc.add_page_break()\n",
    "            os.remove(j)\n",
    "        newdoc.save('Master document of all ' + i +'.docx')\n",
    "        os.chdir(des1)\n",
    "        newdoc = docx.Document()\n",
    "os.chdir(des)"
   ]
  },
  {
   "cell_type": "code",
   "execution_count": null,
   "id": "73405ca8",
   "metadata": {},
   "outputs": [],
   "source": []
  }
 ],
 "metadata": {
  "kernelspec": {
   "display_name": "Python 3",
   "language": "python",
   "name": "python3"
  },
  "language_info": {
   "codemirror_mode": {
    "name": "ipython",
    "version": 3
   },
   "file_extension": ".py",
   "mimetype": "text/x-python",
   "name": "python",
   "nbconvert_exporter": "python",
   "pygments_lexer": "ipython3",
   "version": "3.8.8"
  }
 },
 "nbformat": 4,
 "nbformat_minor": 5
}
